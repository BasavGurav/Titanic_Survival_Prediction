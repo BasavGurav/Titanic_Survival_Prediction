{
 "cells": [
  {
   "cell_type": "code",
   "execution_count": 1,
   "id": "017ce29b",
   "metadata": {
    "_cell_guid": "b1076dfc-b9ad-4769-8c92-a6c4dae69d19",
    "_uuid": "8f2839f25d086af736a60e9eeb907d3b93b6e0e5",
    "execution": {
     "iopub.execute_input": "2023-06-20T14:51:36.357371Z",
     "iopub.status.busy": "2023-06-20T14:51:36.356925Z",
     "iopub.status.idle": "2023-06-20T14:51:36.380939Z",
     "shell.execute_reply": "2023-06-20T14:51:36.379480Z"
    },
    "papermill": {
     "duration": 0.038869,
     "end_time": "2023-06-20T14:51:36.384300",
     "exception": false,
     "start_time": "2023-06-20T14:51:36.345431",
     "status": "completed"
    },
    "tags": []
   },
   "outputs": [
    {
     "name": "stdout",
     "output_type": "stream",
     "text": [
      "/kaggle/input/habermans-survival-data-set/haberman.csv\n",
      "/kaggle/input/titanic/train.csv\n",
      "/kaggle/input/titanic/test.csv\n",
      "/kaggle/input/titanic/gender_submission.csv\n"
     ]
    }
   ],
   "source": [
    "# This Python 3 environment comes with many helpful analytics libraries installed\n",
    "# It is defined by the kaggle/python Docker image: https://github.com/kaggle/docker-python\n",
    "# For example, here's several helpful packages to load\n",
    "\n",
    "import numpy as np # linear algebra\n",
    "import pandas as pd # data processing, CSV file I/O (e.g. pd.read_csv)\n",
    "\n",
    "# Input data files are available in the read-only \"../input/\" directory\n",
    "# For example, running this (by clicking run or pressing Shift+Enter) will list all files under the input directory\n",
    "\n",
    "import os\n",
    "for dirname, _, filenames in os.walk('/kaggle/input'):\n",
    "    for filename in filenames:\n",
    "        print(os.path.join(dirname, filename))\n",
    "\n",
    "# You can write up to 20GB to the current directory (/kaggle/working/) that gets preserved as output when you create a version using \"Save & Run All\" \n",
    "# You can also write temporary files to /kaggle/temp/, but they won't be saved outside of the current session"
   ]
  },
  {
   "cell_type": "code",
   "execution_count": 2,
   "id": "84da5f0a",
   "metadata": {
    "execution": {
     "iopub.execute_input": "2023-06-20T14:51:36.405808Z",
     "iopub.status.busy": "2023-06-20T14:51:36.405180Z",
     "iopub.status.idle": "2023-06-20T14:51:36.410002Z",
     "shell.execute_reply": "2023-06-20T14:51:36.408833Z"
    },
    "papermill": {
     "duration": 0.018072,
     "end_time": "2023-06-20T14:51:36.412261",
     "exception": false,
     "start_time": "2023-06-20T14:51:36.394189",
     "status": "completed"
    },
    "tags": []
   },
   "outputs": [],
   "source": [
    "#importing the libraries"
   ]
  },
  {
   "cell_type": "code",
   "execution_count": 3,
   "id": "98587b65",
   "metadata": {
    "execution": {
     "iopub.execute_input": "2023-06-20T14:51:36.433343Z",
     "iopub.status.busy": "2023-06-20T14:51:36.432229Z",
     "iopub.status.idle": "2023-06-20T14:51:38.619565Z",
     "shell.execute_reply": "2023-06-20T14:51:38.618578Z"
    },
    "papermill": {
     "duration": 2.20114,
     "end_time": "2023-06-20T14:51:38.622849",
     "exception": false,
     "start_time": "2023-06-20T14:51:36.421709",
     "status": "completed"
    },
    "tags": []
   },
   "outputs": [],
   "source": [
    "#data processing\n",
    "import pandas as pd\n",
    "#linear algebra\n",
    "import numpy as np\n",
    "#data visuzalization\n",
    "import seaborn as sns\n",
    "import matplotlib.pyplot as plt\n",
    "from matplotlib import style\n",
    "#algorithms\n",
    "from sklearn import linear_model\n",
    "from sklearn.linear_model import LogisticRegression\n",
    "from sklearn.ensemble import RandomForestClassifier\n",
    "from sklearn.linear_model import Perceptron\n",
    "from sklearn.linear_model import SGDClassifier\n",
    "from sklearn.tree import DecisionTreeClassifier\n",
    "from sklearn.neighbors import KNeighborsClassifier\n",
    "from sklearn.svm import SVC, LinearSVC\n",
    "from sklearn.naive_bayes import GaussianNB"
   ]
  },
  {
   "cell_type": "code",
   "execution_count": 4,
   "id": "88648402",
   "metadata": {
    "execution": {
     "iopub.execute_input": "2023-06-20T14:51:38.645402Z",
     "iopub.status.busy": "2023-06-20T14:51:38.644972Z",
     "iopub.status.idle": "2023-06-20T14:51:38.689335Z",
     "shell.execute_reply": "2023-06-20T14:51:38.688077Z"
    },
    "papermill": {
     "duration": 0.058139,
     "end_time": "2023-06-20T14:51:38.692276",
     "exception": false,
     "start_time": "2023-06-20T14:51:38.634137",
     "status": "completed"
    },
    "tags": []
   },
   "outputs": [],
   "source": [
    "train_df = pd.read_csv('/kaggle/input/titanic/train.csv')\n",
    "test_df = pd.read_csv('/kaggle/input/titanic/test.csv')"
   ]
  },
  {
   "cell_type": "code",
   "execution_count": 5,
   "id": "c80215fb",
   "metadata": {
    "execution": {
     "iopub.execute_input": "2023-06-20T14:51:38.713575Z",
     "iopub.status.busy": "2023-06-20T14:51:38.713193Z",
     "iopub.status.idle": "2023-06-20T14:51:38.748446Z",
     "shell.execute_reply": "2023-06-20T14:51:38.747232Z"
    },
    "papermill": {
     "duration": 0.04921,
     "end_time": "2023-06-20T14:51:38.751012",
     "exception": false,
     "start_time": "2023-06-20T14:51:38.701802",
     "status": "completed"
    },
    "tags": []
   },
   "outputs": [
    {
     "data": {
      "text/html": [
       "<div>\n",
       "<style scoped>\n",
       "    .dataframe tbody tr th:only-of-type {\n",
       "        vertical-align: middle;\n",
       "    }\n",
       "\n",
       "    .dataframe tbody tr th {\n",
       "        vertical-align: top;\n",
       "    }\n",
       "\n",
       "    .dataframe thead th {\n",
       "        text-align: right;\n",
       "    }\n",
       "</style>\n",
       "<table border=\"1\" class=\"dataframe\">\n",
       "  <thead>\n",
       "    <tr style=\"text-align: right;\">\n",
       "      <th></th>\n",
       "      <th>PassengerId</th>\n",
       "      <th>Survived</th>\n",
       "      <th>Pclass</th>\n",
       "      <th>Name</th>\n",
       "      <th>Sex</th>\n",
       "      <th>Age</th>\n",
       "      <th>SibSp</th>\n",
       "      <th>Parch</th>\n",
       "      <th>Ticket</th>\n",
       "      <th>Fare</th>\n",
       "      <th>Cabin</th>\n",
       "      <th>Embarked</th>\n",
       "    </tr>\n",
       "  </thead>\n",
       "  <tbody>\n",
       "    <tr>\n",
       "      <th>0</th>\n",
       "      <td>1</td>\n",
       "      <td>0</td>\n",
       "      <td>3</td>\n",
       "      <td>Braund, Mr. Owen Harris</td>\n",
       "      <td>male</td>\n",
       "      <td>22.0</td>\n",
       "      <td>1</td>\n",
       "      <td>0</td>\n",
       "      <td>A/5 21171</td>\n",
       "      <td>7.2500</td>\n",
       "      <td>NaN</td>\n",
       "      <td>S</td>\n",
       "    </tr>\n",
       "    <tr>\n",
       "      <th>1</th>\n",
       "      <td>2</td>\n",
       "      <td>1</td>\n",
       "      <td>1</td>\n",
       "      <td>Cumings, Mrs. John Bradley (Florence Briggs Th...</td>\n",
       "      <td>female</td>\n",
       "      <td>38.0</td>\n",
       "      <td>1</td>\n",
       "      <td>0</td>\n",
       "      <td>PC 17599</td>\n",
       "      <td>71.2833</td>\n",
       "      <td>C85</td>\n",
       "      <td>C</td>\n",
       "    </tr>\n",
       "    <tr>\n",
       "      <th>2</th>\n",
       "      <td>3</td>\n",
       "      <td>1</td>\n",
       "      <td>3</td>\n",
       "      <td>Heikkinen, Miss. Laina</td>\n",
       "      <td>female</td>\n",
       "      <td>26.0</td>\n",
       "      <td>0</td>\n",
       "      <td>0</td>\n",
       "      <td>STON/O2. 3101282</td>\n",
       "      <td>7.9250</td>\n",
       "      <td>NaN</td>\n",
       "      <td>S</td>\n",
       "    </tr>\n",
       "    <tr>\n",
       "      <th>3</th>\n",
       "      <td>4</td>\n",
       "      <td>1</td>\n",
       "      <td>1</td>\n",
       "      <td>Futrelle, Mrs. Jacques Heath (Lily May Peel)</td>\n",
       "      <td>female</td>\n",
       "      <td>35.0</td>\n",
       "      <td>1</td>\n",
       "      <td>0</td>\n",
       "      <td>113803</td>\n",
       "      <td>53.1000</td>\n",
       "      <td>C123</td>\n",
       "      <td>S</td>\n",
       "    </tr>\n",
       "    <tr>\n",
       "      <th>4</th>\n",
       "      <td>5</td>\n",
       "      <td>0</td>\n",
       "      <td>3</td>\n",
       "      <td>Allen, Mr. William Henry</td>\n",
       "      <td>male</td>\n",
       "      <td>35.0</td>\n",
       "      <td>0</td>\n",
       "      <td>0</td>\n",
       "      <td>373450</td>\n",
       "      <td>8.0500</td>\n",
       "      <td>NaN</td>\n",
       "      <td>S</td>\n",
       "    </tr>\n",
       "  </tbody>\n",
       "</table>\n",
       "</div>"
      ],
      "text/plain": [
       "   PassengerId  Survived  Pclass  \\\n",
       "0            1         0       3   \n",
       "1            2         1       1   \n",
       "2            3         1       3   \n",
       "3            4         1       1   \n",
       "4            5         0       3   \n",
       "\n",
       "                                                Name     Sex   Age  SibSp  \\\n",
       "0                            Braund, Mr. Owen Harris    male  22.0      1   \n",
       "1  Cumings, Mrs. John Bradley (Florence Briggs Th...  female  38.0      1   \n",
       "2                             Heikkinen, Miss. Laina  female  26.0      0   \n",
       "3       Futrelle, Mrs. Jacques Heath (Lily May Peel)  female  35.0      1   \n",
       "4                           Allen, Mr. William Henry    male  35.0      0   \n",
       "\n",
       "   Parch            Ticket     Fare Cabin Embarked  \n",
       "0      0         A/5 21171   7.2500   NaN        S  \n",
       "1      0          PC 17599  71.2833   C85        C  \n",
       "2      0  STON/O2. 3101282   7.9250   NaN        S  \n",
       "3      0            113803  53.1000  C123        S  \n",
       "4      0            373450   8.0500   NaN        S  "
      ]
     },
     "execution_count": 5,
     "metadata": {},
     "output_type": "execute_result"
    }
   ],
   "source": [
    "train_df.head()"
   ]
  },
  {
   "cell_type": "code",
   "execution_count": 6,
   "id": "e8fc2fcd",
   "metadata": {
    "execution": {
     "iopub.execute_input": "2023-06-20T14:51:38.772052Z",
     "iopub.status.busy": "2023-06-20T14:51:38.771674Z",
     "iopub.status.idle": "2023-06-20T14:51:38.779206Z",
     "shell.execute_reply": "2023-06-20T14:51:38.778084Z"
    },
    "papermill": {
     "duration": 0.02104,
     "end_time": "2023-06-20T14:51:38.781712",
     "exception": false,
     "start_time": "2023-06-20T14:51:38.760672",
     "status": "completed"
    },
    "tags": []
   },
   "outputs": [
    {
     "data": {
      "text/plain": [
       "Index(['PassengerId', 'Survived', 'Pclass', 'Name', 'Sex', 'Age', 'SibSp',\n",
       "       'Parch', 'Ticket', 'Fare', 'Cabin', 'Embarked'],\n",
       "      dtype='object')"
      ]
     },
     "execution_count": 6,
     "metadata": {},
     "output_type": "execute_result"
    }
   ],
   "source": [
    "train_df.columns"
   ]
  },
  {
   "cell_type": "code",
   "execution_count": 7,
   "id": "009a11fb",
   "metadata": {
    "execution": {
     "iopub.execute_input": "2023-06-20T14:51:38.803916Z",
     "iopub.status.busy": "2023-06-20T14:51:38.802873Z",
     "iopub.status.idle": "2023-06-20T14:51:38.810318Z",
     "shell.execute_reply": "2023-06-20T14:51:38.809190Z"
    },
    "papermill": {
     "duration": 0.020931,
     "end_time": "2023-06-20T14:51:38.812630",
     "exception": false,
     "start_time": "2023-06-20T14:51:38.791699",
     "status": "completed"
    },
    "tags": []
   },
   "outputs": [
    {
     "data": {
      "text/plain": [
       "(891, 12)"
      ]
     },
     "execution_count": 7,
     "metadata": {},
     "output_type": "execute_result"
    }
   ],
   "source": [
    "train_df.shape"
   ]
  },
  {
   "cell_type": "code",
   "execution_count": 8,
   "id": "cf546156",
   "metadata": {
    "execution": {
     "iopub.execute_input": "2023-06-20T14:51:38.834896Z",
     "iopub.status.busy": "2023-06-20T14:51:38.834536Z",
     "iopub.status.idle": "2023-06-20T14:51:38.860635Z",
     "shell.execute_reply": "2023-06-20T14:51:38.859228Z"
    },
    "papermill": {
     "duration": 0.04006,
     "end_time": "2023-06-20T14:51:38.863080",
     "exception": false,
     "start_time": "2023-06-20T14:51:38.823020",
     "status": "completed"
    },
    "tags": []
   },
   "outputs": [
    {
     "name": "stdout",
     "output_type": "stream",
     "text": [
      "<class 'pandas.core.frame.DataFrame'>\n",
      "RangeIndex: 891 entries, 0 to 890\n",
      "Data columns (total 12 columns):\n",
      " #   Column       Non-Null Count  Dtype  \n",
      "---  ------       --------------  -----  \n",
      " 0   PassengerId  891 non-null    int64  \n",
      " 1   Survived     891 non-null    int64  \n",
      " 2   Pclass       891 non-null    int64  \n",
      " 3   Name         891 non-null    object \n",
      " 4   Sex          891 non-null    object \n",
      " 5   Age          714 non-null    float64\n",
      " 6   SibSp        891 non-null    int64  \n",
      " 7   Parch        891 non-null    int64  \n",
      " 8   Ticket       891 non-null    object \n",
      " 9   Fare         891 non-null    float64\n",
      " 10  Cabin        204 non-null    object \n",
      " 11  Embarked     889 non-null    object \n",
      "dtypes: float64(2), int64(5), object(5)\n",
      "memory usage: 83.7+ KB\n"
     ]
    }
   ],
   "source": [
    "train_df.info()"
   ]
  },
  {
   "cell_type": "code",
   "execution_count": 9,
   "id": "9f154f91",
   "metadata": {
    "execution": {
     "iopub.execute_input": "2023-06-20T14:51:38.885896Z",
     "iopub.status.busy": "2023-06-20T14:51:38.885486Z",
     "iopub.status.idle": "2023-06-20T14:51:38.892309Z",
     "shell.execute_reply": "2023-06-20T14:51:38.891196Z"
    },
    "papermill": {
     "duration": 0.021528,
     "end_time": "2023-06-20T14:51:38.894865",
     "exception": false,
     "start_time": "2023-06-20T14:51:38.873337",
     "status": "completed"
    },
    "tags": []
   },
   "outputs": [
    {
     "data": {
      "text/plain": [
       "(418, 11)"
      ]
     },
     "execution_count": 9,
     "metadata": {},
     "output_type": "execute_result"
    }
   ],
   "source": [
    "test_df.shape"
   ]
  },
  {
   "cell_type": "code",
   "execution_count": 10,
   "id": "76ce8e8d",
   "metadata": {
    "execution": {
     "iopub.execute_input": "2023-06-20T14:51:38.917442Z",
     "iopub.status.busy": "2023-06-20T14:51:38.916986Z",
     "iopub.status.idle": "2023-06-20T14:51:38.926003Z",
     "shell.execute_reply": "2023-06-20T14:51:38.924847Z"
    },
    "papermill": {
     "duration": 0.023529,
     "end_time": "2023-06-20T14:51:38.928583",
     "exception": false,
     "start_time": "2023-06-20T14:51:38.905054",
     "status": "completed"
    },
    "tags": []
   },
   "outputs": [
    {
     "data": {
      "text/plain": [
       "Index(['PassengerId', 'Pclass', 'Name', 'Sex', 'Age', 'SibSp', 'Parch',\n",
       "       'Ticket', 'Fare', 'Cabin', 'Embarked'],\n",
       "      dtype='object')"
      ]
     },
     "execution_count": 10,
     "metadata": {},
     "output_type": "execute_result"
    }
   ],
   "source": [
    "test_df.columns"
   ]
  },
  {
   "cell_type": "code",
   "execution_count": 11,
   "id": "f96dc260",
   "metadata": {
    "execution": {
     "iopub.execute_input": "2023-06-20T14:51:38.951459Z",
     "iopub.status.busy": "2023-06-20T14:51:38.951052Z",
     "iopub.status.idle": "2023-06-20T14:51:38.965688Z",
     "shell.execute_reply": "2023-06-20T14:51:38.963976Z"
    },
    "papermill": {
     "duration": 0.029341,
     "end_time": "2023-06-20T14:51:38.968421",
     "exception": false,
     "start_time": "2023-06-20T14:51:38.939080",
     "status": "completed"
    },
    "tags": []
   },
   "outputs": [
    {
     "name": "stdout",
     "output_type": "stream",
     "text": [
      "<class 'pandas.core.frame.DataFrame'>\n",
      "RangeIndex: 418 entries, 0 to 417\n",
      "Data columns (total 11 columns):\n",
      " #   Column       Non-Null Count  Dtype  \n",
      "---  ------       --------------  -----  \n",
      " 0   PassengerId  418 non-null    int64  \n",
      " 1   Pclass       418 non-null    int64  \n",
      " 2   Name         418 non-null    object \n",
      " 3   Sex          418 non-null    object \n",
      " 4   Age          332 non-null    float64\n",
      " 5   SibSp        418 non-null    int64  \n",
      " 6   Parch        418 non-null    int64  \n",
      " 7   Ticket       418 non-null    object \n",
      " 8   Fare         417 non-null    float64\n",
      " 9   Cabin        91 non-null     object \n",
      " 10  Embarked     418 non-null    object \n",
      "dtypes: float64(2), int64(4), object(5)\n",
      "memory usage: 36.0+ KB\n"
     ]
    }
   ],
   "source": [
    "test_df.info()"
   ]
  },
  {
   "cell_type": "code",
   "execution_count": 12,
   "id": "cff0df99",
   "metadata": {
    "execution": {
     "iopub.execute_input": "2023-06-20T14:51:38.991941Z",
     "iopub.status.busy": "2023-06-20T14:51:38.991560Z",
     "iopub.status.idle": "2023-06-20T14:51:39.030757Z",
     "shell.execute_reply": "2023-06-20T14:51:39.029501Z"
    },
    "papermill": {
     "duration": 0.054288,
     "end_time": "2023-06-20T14:51:39.033419",
     "exception": false,
     "start_time": "2023-06-20T14:51:38.979131",
     "status": "completed"
    },
    "tags": []
   },
   "outputs": [
    {
     "data": {
      "text/html": [
       "<div>\n",
       "<style scoped>\n",
       "    .dataframe tbody tr th:only-of-type {\n",
       "        vertical-align: middle;\n",
       "    }\n",
       "\n",
       "    .dataframe tbody tr th {\n",
       "        vertical-align: top;\n",
       "    }\n",
       "\n",
       "    .dataframe thead th {\n",
       "        text-align: right;\n",
       "    }\n",
       "</style>\n",
       "<table border=\"1\" class=\"dataframe\">\n",
       "  <thead>\n",
       "    <tr style=\"text-align: right;\">\n",
       "      <th></th>\n",
       "      <th>PassengerId</th>\n",
       "      <th>Survived</th>\n",
       "      <th>Pclass</th>\n",
       "      <th>Age</th>\n",
       "      <th>SibSp</th>\n",
       "      <th>Parch</th>\n",
       "      <th>Fare</th>\n",
       "    </tr>\n",
       "  </thead>\n",
       "  <tbody>\n",
       "    <tr>\n",
       "      <th>count</th>\n",
       "      <td>891.000000</td>\n",
       "      <td>891.000000</td>\n",
       "      <td>891.000000</td>\n",
       "      <td>714.000000</td>\n",
       "      <td>891.000000</td>\n",
       "      <td>891.000000</td>\n",
       "      <td>891.000000</td>\n",
       "    </tr>\n",
       "    <tr>\n",
       "      <th>mean</th>\n",
       "      <td>446.000000</td>\n",
       "      <td>0.383838</td>\n",
       "      <td>2.308642</td>\n",
       "      <td>29.699118</td>\n",
       "      <td>0.523008</td>\n",
       "      <td>0.381594</td>\n",
       "      <td>32.204208</td>\n",
       "    </tr>\n",
       "    <tr>\n",
       "      <th>std</th>\n",
       "      <td>257.353842</td>\n",
       "      <td>0.486592</td>\n",
       "      <td>0.836071</td>\n",
       "      <td>14.526497</td>\n",
       "      <td>1.102743</td>\n",
       "      <td>0.806057</td>\n",
       "      <td>49.693429</td>\n",
       "    </tr>\n",
       "    <tr>\n",
       "      <th>min</th>\n",
       "      <td>1.000000</td>\n",
       "      <td>0.000000</td>\n",
       "      <td>1.000000</td>\n",
       "      <td>0.420000</td>\n",
       "      <td>0.000000</td>\n",
       "      <td>0.000000</td>\n",
       "      <td>0.000000</td>\n",
       "    </tr>\n",
       "    <tr>\n",
       "      <th>25%</th>\n",
       "      <td>223.500000</td>\n",
       "      <td>0.000000</td>\n",
       "      <td>2.000000</td>\n",
       "      <td>20.125000</td>\n",
       "      <td>0.000000</td>\n",
       "      <td>0.000000</td>\n",
       "      <td>7.910400</td>\n",
       "    </tr>\n",
       "    <tr>\n",
       "      <th>50%</th>\n",
       "      <td>446.000000</td>\n",
       "      <td>0.000000</td>\n",
       "      <td>3.000000</td>\n",
       "      <td>28.000000</td>\n",
       "      <td>0.000000</td>\n",
       "      <td>0.000000</td>\n",
       "      <td>14.454200</td>\n",
       "    </tr>\n",
       "    <tr>\n",
       "      <th>75%</th>\n",
       "      <td>668.500000</td>\n",
       "      <td>1.000000</td>\n",
       "      <td>3.000000</td>\n",
       "      <td>38.000000</td>\n",
       "      <td>1.000000</td>\n",
       "      <td>0.000000</td>\n",
       "      <td>31.000000</td>\n",
       "    </tr>\n",
       "    <tr>\n",
       "      <th>max</th>\n",
       "      <td>891.000000</td>\n",
       "      <td>1.000000</td>\n",
       "      <td>3.000000</td>\n",
       "      <td>80.000000</td>\n",
       "      <td>8.000000</td>\n",
       "      <td>6.000000</td>\n",
       "      <td>512.329200</td>\n",
       "    </tr>\n",
       "  </tbody>\n",
       "</table>\n",
       "</div>"
      ],
      "text/plain": [
       "       PassengerId    Survived      Pclass         Age       SibSp  \\\n",
       "count   891.000000  891.000000  891.000000  714.000000  891.000000   \n",
       "mean    446.000000    0.383838    2.308642   29.699118    0.523008   \n",
       "std     257.353842    0.486592    0.836071   14.526497    1.102743   \n",
       "min       1.000000    0.000000    1.000000    0.420000    0.000000   \n",
       "25%     223.500000    0.000000    2.000000   20.125000    0.000000   \n",
       "50%     446.000000    0.000000    3.000000   28.000000    0.000000   \n",
       "75%     668.500000    1.000000    3.000000   38.000000    1.000000   \n",
       "max     891.000000    1.000000    3.000000   80.000000    8.000000   \n",
       "\n",
       "            Parch        Fare  \n",
       "count  891.000000  891.000000  \n",
       "mean     0.381594   32.204208  \n",
       "std      0.806057   49.693429  \n",
       "min      0.000000    0.000000  \n",
       "25%      0.000000    7.910400  \n",
       "50%      0.000000   14.454200  \n",
       "75%      0.000000   31.000000  \n",
       "max      6.000000  512.329200  "
      ]
     },
     "execution_count": 12,
     "metadata": {},
     "output_type": "execute_result"
    }
   ],
   "source": [
    "train_df.describe()"
   ]
  },
  {
   "cell_type": "markdown",
   "id": "1198dc10",
   "metadata": {
    "papermill": {
     "duration": 0.010617,
     "end_time": "2023-06-20T14:51:39.054886",
     "exception": false,
     "start_time": "2023-06-20T14:51:39.044269",
     "status": "completed"
    },
    "tags": []
   },
   "source": [
    "survival:    Survival     \n",
    "PassengerId: Unique Id of a passenger. \n",
    "pclass:    Ticket class     \n",
    "sex:    Sex     \n",
    "Age:    Age in years     \n",
    "sibsp:    # of siblings / spouses aboard the Titanic     \n",
    "parch:    # of parents / children aboard the Titanic     \n",
    "ticket:    Ticket number     \n",
    "fare:    Passenger fare     \n",
    "cabin:    Cabin number     \n",
    "embarked:    Port of Embarkation"
   ]
  },
  {
   "cell_type": "code",
   "execution_count": 13,
   "id": "a6340394",
   "metadata": {
    "execution": {
     "iopub.execute_input": "2023-06-20T14:51:39.078486Z",
     "iopub.status.busy": "2023-06-20T14:51:39.078074Z",
     "iopub.status.idle": "2023-06-20T14:51:39.661771Z",
     "shell.execute_reply": "2023-06-20T14:51:39.660606Z"
    },
    "papermill": {
     "duration": 0.598688,
     "end_time": "2023-06-20T14:51:39.664449",
     "exception": false,
     "start_time": "2023-06-20T14:51:39.065761",
     "status": "completed"
    },
    "tags": []
   },
   "outputs": [
    {
     "data": {
      "text/plain": [
       "<Axes: xlabel='total_bill', ylabel='tip'>"
      ]
     },
     "execution_count": 13,
     "metadata": {},
     "output_type": "execute_result"
    },
    {
     "data": {
      "image/png": "[encoded data removed]",
      "text/plain": [
       "<Figure size 640x480 with 1 Axes>"
      ]
     },
     "metadata": {},
     "output_type": "display_data"
    }
   ],
   "source": [
    "tips = sns.load_dataset(\"tips\")\n",
    "sns.scatterplot(data=tips, x='total_bill', y='tip', hue='sex')"
   ]
  },
  {
   "cell_type": "code",
   "execution_count": 14,
   "id": "9dce2c53",
   "metadata": {
    "execution": {
     "iopub.execute_input": "2023-06-20T14:51:39.690609Z",
     "iopub.status.busy": "2023-06-20T14:51:39.690157Z",
     "iopub.status.idle": "2023-06-20T14:51:39.715345Z",
     "shell.execute_reply": "2023-06-20T14:51:39.714047Z"
    },
    "papermill": {
     "duration": 0.041223,
     "end_time": "2023-06-20T14:51:39.718113",
     "exception": false,
     "start_time": "2023-06-20T14:51:39.676890",
     "status": "completed"
    },
    "tags": []
   },
   "outputs": [
    {
     "data": {
      "text/html": [
       "<div>\n",
       "<style scoped>\n",
       "    .dataframe tbody tr th:only-of-type {\n",
       "        vertical-align: middle;\n",
       "    }\n",
       "\n",
       "    .dataframe tbody tr th {\n",
       "        vertical-align: top;\n",
       "    }\n",
       "\n",
       "    .dataframe thead th {\n",
       "        text-align: right;\n",
       "    }\n",
       "</style>\n",
       "<table border=\"1\" class=\"dataframe\">\n",
       "  <thead>\n",
       "    <tr style=\"text-align: right;\">\n",
       "      <th></th>\n",
       "      <th>Total</th>\n",
       "      <th>%</th>\n",
       "    </tr>\n",
       "  </thead>\n",
       "  <tbody>\n",
       "    <tr>\n",
       "      <th>Cabin</th>\n",
       "      <td>687</td>\n",
       "      <td>77.104377</td>\n",
       "    </tr>\n",
       "    <tr>\n",
       "      <th>Age</th>\n",
       "      <td>177</td>\n",
       "      <td>19.865320</td>\n",
       "    </tr>\n",
       "    <tr>\n",
       "      <th>Embarked</th>\n",
       "      <td>2</td>\n",
       "      <td>0.224467</td>\n",
       "    </tr>\n",
       "    <tr>\n",
       "      <th>PassengerId</th>\n",
       "      <td>0</td>\n",
       "      <td>0.000000</td>\n",
       "    </tr>\n",
       "    <tr>\n",
       "      <th>Survived</th>\n",
       "      <td>0</td>\n",
       "      <td>0.000000</td>\n",
       "    </tr>\n",
       "  </tbody>\n",
       "</table>\n",
       "</div>"
      ],
      "text/plain": [
       "             Total          %\n",
       "Cabin          687  77.104377\n",
       "Age            177  19.865320\n",
       "Embarked         2   0.224467\n",
       "PassengerId      0   0.000000\n",
       "Survived         0   0.000000"
      ]
     },
     "execution_count": 14,
     "metadata": {},
     "output_type": "execute_result"
    }
   ],
   "source": [
    "total = train_df.isnull().sum().sort_values(ascending=False)\n",
    "percent1 =  train_df.isnull().sum() / train_df.isnull().count() * 100\n",
    "missing_data = pd.concat([total, percent1], axis=1, keys=['Total', '%'] )\n",
    "missing_data.head()"
   ]
  },
  {
   "cell_type": "markdown",
   "id": "ab882924",
   "metadata": {
    "papermill": {
     "duration": 0.011841,
     "end_time": "2023-06-20T14:51:39.742039",
     "exception": false,
     "start_time": "2023-06-20T14:51:39.730198",
     "status": "completed"
    },
    "tags": []
   },
   "source": [
    "# **1. Age and Sex:**"
   ]
  },
  {
   "cell_type": "code",
   "execution_count": 15,
   "id": "5545fcfb",
   "metadata": {
    "execution": {
     "iopub.execute_input": "2023-06-20T14:51:39.768699Z",
     "iopub.status.busy": "2023-06-20T14:51:39.767658Z",
     "iopub.status.idle": "2023-06-20T14:51:41.049228Z",
     "shell.execute_reply": "2023-06-20T14:51:41.048016Z"
    },
    "papermill": {
     "duration": 1.297296,
     "end_time": "2023-06-20T14:51:41.051789",
     "exception": false,
     "start_time": "2023-06-20T14:51:39.754493",
     "status": "completed"
    },
    "tags": []
   },
   "outputs": [
    {
     "data": {
      "text/plain": [
       "Text(0.5, 1.0, 'Male')"
      ]
     },
     "execution_count": 15,
     "metadata": {},
     "output_type": "execute_result"
    },
    {
     "data": {
      "image/png": "[encoded data removed]",
      "text/plain": [
       "<Figure size 1000x400 with 2 Axes>"
      ]
     },
     "metadata": {},
     "output_type": "display_data"
    }
   ],
   "source": [
    "survived = 'survived'\n",
    "not_survived = 'not survived'\n",
    "fig, axes = plt.subplots(nrows=1, ncols=2, figsize = (10,4))\n",
    "women = train_df[train_df.Sex == 'female']\n",
    "men = train_df[train_df.Sex=='male']\n",
    "ax = sns.histplot(women[women.Survived==1].Age.dropna(), bins=18, \n",
    "                  label=survived, ax=axes[0], kde='False' )\n",
    "ax = sns.histplot(women[women.Survived==0].Age.dropna(), bins=40, \n",
    "                  label=not_survived, ax=axes[0], kde='False' )\n",
    "ax.legend()\n",
    "ax.set_title('Female')\n",
    "ax = sns.histplot(men[men.Survived==1].Age.dropna(), bins=18, \n",
    "                  label=survived, ax=axes[1], kde='False')\n",
    "ax = sns.histplot(men[men.Survived==0].Age.dropna(), bins=40, \n",
    "                  label=not_survived, ax=axes[1], kde='False' )\n",
    "ax.legend()\n",
    "ax.set_title('Male')"
   ]
  },
  {
   "cell_type": "markdown",
   "id": "5b9b4c9d",
   "metadata": {
    "execution": {
     "iopub.execute_input": "2023-06-20T13:43:08.650710Z",
     "iopub.status.busy": "2023-06-20T13:43:08.650203Z",
     "iopub.status.idle": "2023-06-20T13:43:08.656454Z",
     "shell.execute_reply": "2023-06-20T13:43:08.655158Z",
     "shell.execute_reply.started": "2023-06-20T13:43:08.650677Z"
    },
    "papermill": {
     "duration": 0.012652,
     "end_time": "2023-06-20T14:51:41.077738",
     "exception": false,
     "start_time": "2023-06-20T14:51:41.065086",
     "status": "completed"
    },
    "tags": []
   },
   "source": [
    "# **Embarked, Pclass and Sex:**"
   ]
  },
  {
   "cell_type": "code",
   "execution_count": 16,
   "id": "d9e0f332",
   "metadata": {
    "execution": {
     "iopub.execute_input": "2023-06-20T14:51:41.105646Z",
     "iopub.status.busy": "2023-06-20T14:51:41.105227Z",
     "iopub.status.idle": "2023-06-20T14:51:41.112755Z",
     "shell.execute_reply": "2023-06-20T14:51:41.111682Z"
    },
    "papermill": {
     "duration": 0.024444,
     "end_time": "2023-06-20T14:51:41.115233",
     "exception": false,
     "start_time": "2023-06-20T14:51:41.090789",
     "status": "completed"
    },
    "tags": []
   },
   "outputs": [
    {
     "data": {
      "text/plain": [
       "Index(['PassengerId', 'Survived', 'Pclass', 'Name', 'Sex', 'Age', 'SibSp',\n",
       "       'Parch', 'Ticket', 'Fare', 'Cabin', 'Embarked'],\n",
       "      dtype='object')"
      ]
     },
     "execution_count": 16,
     "metadata": {},
     "output_type": "execute_result"
    }
   ],
   "source": [
    "train_df.columns"
   ]
  },
  {
   "cell_type": "code",
   "execution_count": 17,
   "id": "6e6e8efe",
   "metadata": {
    "execution": {
     "iopub.execute_input": "2023-06-20T14:51:41.143438Z",
     "iopub.status.busy": "2023-06-20T14:51:41.142630Z",
     "iopub.status.idle": "2023-06-20T14:51:43.354109Z",
     "shell.execute_reply": "2023-06-20T14:51:43.352921Z"
    },
    "papermill": {
     "duration": 2.228777,
     "end_time": "2023-06-20T14:51:43.357047",
     "exception": false,
     "start_time": "2023-06-20T14:51:41.128270",
     "status": "completed"
    },
    "tags": []
   },
   "outputs": [
    {
     "data": {
      "text/plain": [
       "<seaborn.axisgrid.FacetGrid at 0x7d2489609b10>"
      ]
     },
     "execution_count": 17,
     "metadata": {},
     "output_type": "execute_result"
    },
    {
     "data": {
      "image/png": "[encoded data removed]",
      "text/plain": [
       "<Figure size 818x1350 with 3 Axes>"
      ]
     },
     "metadata": {},
     "output_type": "display_data"
    }
   ],
   "source": [
    "FacetGrid = sns.FacetGrid(train_df, row='Embarked', height=4.5, aspect=1.6)\n",
    "FacetGrid.map(sns.pointplot, 'Pclass', 'Survived', 'Sex', palette=None, order=None, hue_order= None)\n",
    "FacetGrid.add_legend()"
   ]
  },
  {
   "cell_type": "markdown",
   "id": "5ad23a23",
   "metadata": {
    "papermill": {
     "duration": 0.014078,
     "end_time": "2023-06-20T14:51:43.385493",
     "exception": false,
     "start_time": "2023-06-20T14:51:43.371415",
     "status": "completed"
    },
    "tags": []
   },
   "source": [
    "# **4. Pclass:**"
   ]
  },
  {
   "cell_type": "code",
   "execution_count": 18,
   "id": "c2a1b813",
   "metadata": {
    "execution": {
     "iopub.execute_input": "2023-06-20T14:51:43.417007Z",
     "iopub.status.busy": "2023-06-20T14:51:43.416203Z",
     "iopub.status.idle": "2023-06-20T14:51:43.946246Z",
     "shell.execute_reply": "2023-06-20T14:51:43.944316Z"
    },
    "papermill": {
     "duration": 0.549461,
     "end_time": "2023-06-20T14:51:43.949522",
     "exception": false,
     "start_time": "2023-06-20T14:51:43.400061",
     "status": "completed"
    },
    "tags": []
   },
   "outputs": [
    {
     "data": {
      "text/plain": [
       "<Axes: xlabel='Pclass', ylabel='Survived'>"
      ]
     },
     "execution_count": 18,
     "metadata": {},
     "output_type": "execute_result"
    },
    {
     "data": {
      "image/png": "[encoded data removed]",
      "text/plain": [
       "<Figure size 640x480 with 1 Axes>"
      ]
     },
     "metadata": {},
     "output_type": "display_data"
    }
   ],
   "source": [
    "sns.barplot(x=\"Pclass\", y='Survived',data=train_df)"
   ]
  },
  {
   "cell_type": "code",
   "execution_count": 19,
   "id": "3cd4536c",
   "metadata": {
    "execution": {
     "iopub.execute_input": "2023-06-20T14:51:43.980748Z",
     "iopub.status.busy": "2023-06-20T14:51:43.980330Z",
     "iopub.status.idle": "2023-06-20T14:51:46.885260Z",
     "shell.execute_reply": "2023-06-20T14:51:46.884026Z"
    },
    "papermill": {
     "duration": 2.923774,
     "end_time": "2023-06-20T14:51:46.888057",
     "exception": false,
     "start_time": "2023-06-20T14:51:43.964283",
     "status": "completed"
    },
    "tags": []
   },
   "outputs": [
    {
     "data": {
      "text/plain": [
       "<seaborn.axisgrid.FacetGrid at 0x7d2484cd8490>"
      ]
     },
     "execution_count": 19,
     "metadata": {},
     "output_type": "execute_result"
    },
    {
     "data": {
      "image/png": "[encoded data removed]",
      "text/plain": [
       "<Figure size 715.111x660 with 6 Axes>"
      ]
     },
     "metadata": {},
     "output_type": "display_data"
    }
   ],
   "source": [
    "grid = sns.FacetGrid(train_df, col='Survived', row='Pclass', height=2.2, aspect=1.6 )\n",
    "grid.map(plt.hist, 'Age', alpha=0.5, bins=20)\n",
    "grid.add_legend()"
   ]
  },
  {
   "cell_type": "markdown",
   "id": "9ab02db3",
   "metadata": {
    "papermill": {
     "duration": 0.014952,
     "end_time": "2023-06-20T14:51:46.918266",
     "exception": false,
     "start_time": "2023-06-20T14:51:46.903314",
     "status": "completed"
    },
    "tags": []
   },
   "source": [
    "# **5. SibSp and Parch:**"
   ]
  },
  {
   "cell_type": "code",
   "execution_count": 20,
   "id": "fea53798",
   "metadata": {
    "execution": {
     "iopub.execute_input": "2023-06-20T14:51:46.950597Z",
     "iopub.status.busy": "2023-06-20T14:51:46.950188Z",
     "iopub.status.idle": "2023-06-20T14:51:46.958395Z",
     "shell.execute_reply": "2023-06-20T14:51:46.957040Z"
    },
    "papermill": {
     "duration": 0.027503,
     "end_time": "2023-06-20T14:51:46.961028",
     "exception": false,
     "start_time": "2023-06-20T14:51:46.933525",
     "status": "completed"
    },
    "tags": []
   },
   "outputs": [
    {
     "data": {
      "text/plain": [
       "Index(['PassengerId', 'Survived', 'Pclass', 'Name', 'Sex', 'Age', 'SibSp',\n",
       "       'Parch', 'Ticket', 'Fare', 'Cabin', 'Embarked'],\n",
       "      dtype='object')"
      ]
     },
     "execution_count": 20,
     "metadata": {},
     "output_type": "execute_result"
    }
   ],
   "source": [
    "train_df.columns"
   ]
  },
  {
   "cell_type": "code",
   "execution_count": 21,
   "id": "36d487a2",
   "metadata": {
    "execution": {
     "iopub.execute_input": "2023-06-20T14:51:46.995260Z",
     "iopub.status.busy": "2023-06-20T14:51:46.994175Z",
     "iopub.status.idle": "2023-06-20T14:51:47.010256Z",
     "shell.execute_reply": "2023-06-20T14:51:47.009088Z"
    },
    "papermill": {
     "duration": 0.036014,
     "end_time": "2023-06-20T14:51:47.012929",
     "exception": false,
     "start_time": "2023-06-20T14:51:46.976915",
     "status": "completed"
    },
    "tags": []
   },
   "outputs": [
    {
     "data": {
      "text/plain": [
       "1    537\n",
       "0    354\n",
       "Name: not_alone, dtype: int64"
      ]
     },
     "execution_count": 21,
     "metadata": {},
     "output_type": "execute_result"
    }
   ],
   "source": [
    "data = [train_df, test_df]\n",
    "for dataset in data:\n",
    "    dataset['relatives'] = dataset['SibSp'] + dataset['Parch']\n",
    "    dataset.loc[dataset['relatives'] > 0, 'not_alone'] = 0\n",
    "    dataset.loc[dataset['relatives']==0, 'not_alone'] =1\n",
    "    dataset['not_alone'] = dataset['not_alone'].astype(int)\n",
    "\n",
    "train_df.not_alone.value_counts()"
   ]
  },
  {
   "cell_type": "code",
   "execution_count": 22,
   "id": "86736f78",
   "metadata": {
    "execution": {
     "iopub.execute_input": "2023-06-20T14:51:47.047161Z",
     "iopub.status.busy": "2023-06-20T14:51:47.046707Z",
     "iopub.status.idle": "2023-06-20T14:51:47.054829Z",
     "shell.execute_reply": "2023-06-20T14:51:47.053560Z"
    },
    "papermill": {
     "duration": 0.028096,
     "end_time": "2023-06-20T14:51:47.057380",
     "exception": false,
     "start_time": "2023-06-20T14:51:47.029284",
     "status": "completed"
    },
    "tags": []
   },
   "outputs": [
    {
     "data": {
      "text/plain": [
       "Index(['PassengerId', 'Survived', 'Pclass', 'Name', 'Sex', 'Age', 'SibSp',\n",
       "       'Parch', 'Ticket', 'Fare', 'Cabin', 'Embarked', 'relatives',\n",
       "       'not_alone'],\n",
       "      dtype='object')"
      ]
     },
     "execution_count": 22,
     "metadata": {},
     "output_type": "execute_result"
    }
   ],
   "source": [
    "train_df.columns"
   ]
  },
  {
   "cell_type": "code",
   "execution_count": 23,
   "id": "9b987d6e",
   "metadata": {
    "execution": {
     "iopub.execute_input": "2023-06-20T14:51:47.091428Z",
     "iopub.status.busy": "2023-06-20T14:51:47.090745Z",
     "iopub.status.idle": "2023-06-20T14:51:47.514860Z",
     "shell.execute_reply": "2023-06-20T14:51:47.513423Z"
    },
    "papermill": {
     "duration": 0.44351,
     "end_time": "2023-06-20T14:51:47.516860",
     "exception": true,
     "start_time": "2023-06-20T14:51:47.073350",
     "status": "failed"
    },
    "tags": []
   },
   "outputs": [
    {
     "ename": "TypeError",
     "evalue": "catplot() got multiple values for argument 'data'",
     "output_type": "error",
     "traceback": [
      "\u001b[0;31m---------------------------------------------------------------------------\u001b[0m",
      "\u001b[0;31mTypeError\u001b[0m                                 Traceback (most recent call last)",
      "Cell \u001b[0;32mIn[23], line 1\u001b[0m\n\u001b[0;32m----> 1\u001b[0m axes \u001b[38;5;241m=\u001b[39m \u001b[43msns\u001b[49m\u001b[38;5;241;43m.\u001b[39;49m\u001b[43mcatplot\u001b[49m\u001b[43m(\u001b[49m\u001b[38;5;124;43m'\u001b[39;49m\u001b[38;5;124;43mrelatives\u001b[39;49m\u001b[38;5;124;43m'\u001b[39;49m\u001b[43m,\u001b[49m\u001b[43m \u001b[49m\u001b[38;5;124;43m'\u001b[39;49m\u001b[38;5;124;43mSurvived\u001b[39;49m\u001b[38;5;124;43m'\u001b[39;49m\u001b[43m,\u001b[49m\u001b[43m \u001b[49m\u001b[43mdata\u001b[49m\u001b[38;5;241;43m=\u001b[39;49m\u001b[43mtrain_df\u001b[49m\u001b[43m)\u001b[49m\n",
      "\u001b[0;31mTypeError\u001b[0m: catplot() got multiple values for argument 'data'"
     ]
    }
   ],
   "source": [
    "axes = sns.catplot('relatives', 'Survived', data=train_df)"
   ]
  },
  {
   "cell_type": "code",
   "execution_count": null,
   "id": "45725573",
   "metadata": {
    "execution": {
     "iopub.execute_input": "2023-06-20T14:46:56.779459Z",
     "iopub.status.busy": "2023-06-20T14:46:56.778933Z",
     "iopub.status.idle": "2023-06-20T14:46:56.825380Z",
     "shell.execute_reply": "2023-06-20T14:46:56.823663Z",
     "shell.execute_reply.started": "2023-06-20T14:46:56.779420Z"
    },
    "papermill": {
     "duration": null,
     "end_time": null,
     "exception": null,
     "start_time": null,
     "status": "pending"
    },
    "tags": []
   },
   "outputs": [],
   "source": [
    "axes = sns.factorplot('relatives','Survived', \n",
    "                      data=train_df, aspect = 2.5, )"
   ]
  },
  {
   "cell_type": "code",
   "execution_count": null,
   "id": "ec88bf81",
   "metadata": {
    "papermill": {
     "duration": null,
     "end_time": null,
     "exception": null,
     "start_time": null,
     "status": "pending"
    },
    "tags": []
   },
   "outputs": [],
   "source": []
  }
 ],
 "metadata": {
  "kernelspec": {
   "display_name": "Python 3",
   "language": "python",
   "name": "python3"
  },
  "language_info": {
   "codemirror_mode": {
    "name": "ipython",
    "version": 3
   },
   "file_extension": ".py",
   "mimetype": "text/x-python",
   "name": "python",
   "nbconvert_exporter": "python",
   "pygments_lexer": "ipython3",
   "version": "3.10.10"
  },
  "papermill": {
   "default_parameters": {},
   "duration": 25.372167,
   "end_time": "2023-06-20T14:51:48.756832",
   "environment_variables": {},
   "exception": true,
   "input_path": "__notebook__.ipynb",
   "output_path": "__notebook__.ipynb",
   "parameters": {},
   "start_time": "2023-06-20T14:51:23.384665",
   "version": "2.4.0"
  }
 },
 "nbformat": 4,
 "nbformat_minor": 5
}
